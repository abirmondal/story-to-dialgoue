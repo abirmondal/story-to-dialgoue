{
 "cells": [
  {
   "cell_type": "markdown",
   "metadata": {},
   "source": [
    "Add the project root to Python's import path so local modules (src/...) can be imported easily."
   ]
  },
  {
   "cell_type": "code",
   "execution_count": null,
   "metadata": {},
   "outputs": [],
   "source": [
    "import sys\n",
    "from pathlib import Path\n",
    "\n",
    "project_path = Path.cwd().parent\n",
    "\n",
    "sys.path.append(str(project_path.resolve()))"
   ]
  },
  {
   "cell_type": "markdown",
   "metadata": {},
   "source": [
    "Import dataset helpers and Hugging Face Transformers components used for training and tokenization."
   ]
  },
  {
   "cell_type": "code",
   "execution_count": null,
   "metadata": {
    "execution": {
     "iopub.execute_input": "2025-10-24T07:51:40.180024Z",
     "iopub.status.busy": "2025-10-24T07:51:40.179774Z",
     "iopub.status.idle": "2025-10-24T07:52:06.276432Z",
     "shell.execute_reply": "2025-10-24T07:52:06.275758Z",
     "shell.execute_reply.started": "2025-10-24T07:51:40.179999Z"
    },
    "trusted": true
   },
   "outputs": [],
   "source": [
    "from transformers import pipeline\n",
    "from src.dataset.load_data_soda import SODADataLoader"
   ]
  },
  {
   "cell_type": "markdown",
   "metadata": {},
   "source": [
    "Set finetuned model name from HuggingFace"
   ]
  },
  {
   "cell_type": "code",
   "execution_count": null,
   "metadata": {
    "execution": {
     "iopub.execute_input": "2025-10-24T07:52:06.277701Z",
     "iopub.status.busy": "2025-10-24T07:52:06.277168Z",
     "iopub.status.idle": "2025-10-24T07:52:06.281876Z",
     "shell.execute_reply": "2025-10-24T07:52:06.280779Z",
     "shell.execute_reply.started": "2025-10-24T07:52:06.277675Z"
    },
    "trusted": true
   },
   "outputs": [],
   "source": [
    "HF_MODEL_NAME = \"abirmondalind/story2dialogue-SODA-BERT\""
   ]
  },
  {
   "cell_type": "markdown",
   "metadata": {},
   "source": [
    "Create the SODA dataset loader with simple filtering options and retrieve the dataset object."
   ]
  },
  {
   "cell_type": "code",
   "execution_count": null,
   "metadata": {
    "execution": {
     "iopub.execute_input": "2025-10-24T07:52:22.918796Z",
     "iopub.status.busy": "2025-10-24T07:52:22.918237Z",
     "iopub.status.idle": "2025-10-24T07:52:38.685102Z",
     "shell.execute_reply": "2025-10-24T07:52:38.684272Z",
     "shell.execute_reply.started": "2025-10-24T07:52:22.918767Z"
    },
    "trusted": true
   },
   "outputs": [],
   "source": [
    "soda_dataset_obj = SODADataLoader(\n",
    "    data_types=['test'],\n",
    "    samples_per_split=50,\n",
    "    min_story_length=20,\n",
    "    max_story_length=250,\n",
    "    join_dialogue_and_speakers=True,\n",
    "    add_characters_in_narrative=True,\n",
    "    add_turns_count_in_narrative=True\n",
    ")\n",
    "soda_ds = soda_dataset_obj.dataset"
   ]
  },
  {
   "cell_type": "markdown",
   "metadata": {},
   "source": [
    "Create text2text generation pipeline"
   ]
  },
  {
   "cell_type": "code",
   "execution_count": null,
   "metadata": {
    "execution": {
     "iopub.execute_input": "2025-10-24T07:52:38.686391Z",
     "iopub.status.busy": "2025-10-24T07:52:38.686162Z",
     "iopub.status.idle": "2025-10-24T07:52:47.025123Z",
     "shell.execute_reply": "2025-10-24T07:52:47.024252Z",
     "shell.execute_reply.started": "2025-10-24T07:52:38.686372Z"
    },
    "trusted": true
   },
   "outputs": [],
   "source": [
    "generator = pipeline(\n",
    "    \"text2text-generation\",\n",
    "    model=HF_MODEL_NAME,\n",
    "    tokenizer=HF_MODEL_NAME\n",
    ")"
   ]
  },
  {
   "cell_type": "markdown",
   "metadata": {},
   "source": [
    "Generate dialogue from a narrative and compare with actual dialogue"
   ]
  },
  {
   "cell_type": "code",
   "execution_count": null,
   "metadata": {
    "execution": {
     "iopub.execute_input": "2025-10-24T07:55:05.144299Z",
     "iopub.status.busy": "2025-10-24T07:55:05.143694Z",
     "iopub.status.idle": "2025-10-24T07:55:34.013753Z",
     "shell.execute_reply": "2025-10-24T07:55:34.012441Z",
     "shell.execute_reply.started": "2025-10-24T07:55:05.144271Z"
    },
    "trusted": true
   },
   "outputs": [],
   "source": [
    "i = 10\n",
    "text = soda_ds['test'][i]['narrative']\n",
    "actual_dialogue = soda_ds['test'][i]['dialogue']\n",
    "\n",
    "output = generator(\n",
    "        text,\n",
    "        max_new_tokens=1024,\n",
    "        # min_length=150,\n",
    "        num_beams=8,\n",
    "        length_penalty=1.2,\n",
    "        # no_repeat_ngram_size=3,\n",
    "        early_stopping=True\n",
    "    )\n",
    "\n",
    "print(\"Narrative:\", text, \"\\n\", sep=\"\\n\")\n",
    "print(\"Generated Dialogue:\", output[0]['generated_text'], \"\\n\", sep=\"\\n\")\n",
    "print(\"Actual Dialogue:\", actual_dialogue, sep=\"\\n\")"
   ]
  }
 ],
 "metadata": {
  "kaggle": {
   "accelerator": "none",
   "dataSources": [],
   "dockerImageVersionId": 31153,
   "isGpuEnabled": false,
   "isInternetEnabled": true,
   "language": "python",
   "sourceType": "notebook"
  },
  "kernelspec": {
   "display_name": "Python 3",
   "language": "python",
   "name": "python3"
  },
  "language_info": {
   "codemirror_mode": {
    "name": "ipython",
    "version": 3
   },
   "file_extension": ".py",
   "mimetype": "text/x-python",
   "name": "python",
   "nbconvert_exporter": "python",
   "pygments_lexer": "ipython3",
   "version": "3.11.13"
  }
 },
 "nbformat": 4,
 "nbformat_minor": 4
}
